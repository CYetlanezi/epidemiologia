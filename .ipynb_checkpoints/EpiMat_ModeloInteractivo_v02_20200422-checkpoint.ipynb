{
 "cells": [
  {
   "cell_type": "code",
   "execution_count": 1,
   "metadata": {},
   "outputs": [],
   "source": [
    "import os\n",
    "import sys\n",
    "import matplotlib.pyplot as plt\n",
    "import numpy as np\n",
    "import pandas as pd\n",
    "from scipy.integrate import odeint\n",
    "import plotly.graph_objects as go\n",
    "import plotly.io as pio\n",
    "pio.renderers.default = \"notebook\"\n",
    "%matplotlib inline\n",
    "plt.style.use('ggplot')\n",
    "\n",
    "# Jupyter Specifics\n",
    "from IPython.display import HTML\n",
    "from ipywidgets.widgets import interact, IntSlider, FloatSlider, Layout\n",
    "style = {'description_width': '100px'}\n",
    "slider_layout = Layout(width='99%')"
   ]
  },
  {
   "cell_type": "code",
   "execution_count": 2,
   "metadata": {},
   "outputs": [],
   "source": [
    "# ref: https://www.medrxiv.org/content/10.1101/2020.04.01.20049825v1.full.pdf\n",
    "S_0 = 100000\n",
    "E_0 = 0\n",
    "Y_0 = 1\n",
    "A_0 = 1\n",
    "R_0 = 0\n",
    "Q_0 = 0\n",
    "phi = 0.55\n",
    "alpha = 0.86\n",
    "gamma = 5.1\n",
    "lambda_yr = 8\n",
    "lambda_ar = 8\n",
    "epsilon = 1/70\n",
    "Gamma = 5942\n",
    "lambda_ay = 0.1\n",
    "lambda_rs = 0.1\n",
    "lambda_sq = 0.1\n",
    "lambda_yq = 0.2\n",
    "lambda_aq = 0.1\n",
    "lambda_qr = 0.01\n",
    "tau = 0.1\n",
    "B_y = 0.5\n",
    "dias = 30\n",
    "# INPUT = [S, E, Y, A, R, Q]\n",
    "# parametros = [phi, alpha, gamma, lambda_yr, lambda_ar, B_y]"
   ]
  },
  {
   "cell_type": "markdown",
   "metadata": {},
   "source": [
    "El modelo:\n",
    "\n",
    "$\\frac{dS}{dt} = \\Gamma + \\lambda_{RS}R - (B_Y\\frac{Y}{N}+B_A\\frac{A}{N})(1-\\tau)S - \\epsilon S - \\tau \\lambda_{SQ}S$\n",
    "\n",
    "$\\frac{dE}{dt} = (B_Y\\frac{Y}{N}+B_A\\frac{A}{N})(1-\\tau) S - \\gamma \\alpha E - \\gamma (1 - \\alpha)E - \\epsilon E$\n",
    "\n",
    "$\\frac{dY}{dt} = \\gamma (1-\\alpha) E - \\epsilon Y - \\delta Y - \\lambda_{YQ}Y + \\lambda_{AY}A$\n",
    "\n",
    "$\\frac{dA}{dt} = \\gamma \\alpha E - \\lambda_{AY}A - \\lambda_{AQ}A - \\epsilon A$\n",
    "\n",
    "$\\frac{dR}{dt} = \\lambda_{QR}Q - \\lambda_{RS}R - \\epsilon R$\n",
    "\n",
    "$\\frac{dQ}{dt} = \\tau \\lambda_{SQ}S + \\lambda_{YQ}Y + \\lambda_{AQ}A - \\lambda_{QR}Q - \\epsilon Q$"
   ]
  },
  {
   "cell_type": "code",
   "execution_count": 3,
   "metadata": {},
   "outputs": [],
   "source": [
    "def diff_eqs(INP, t, phi, alpha, gamma, lambda_yr, lambda_ar, B_y):\n",
    "    \"\"\"\n",
    "    Sistema de ecuaciones diferenciales.\n",
    "    \"\"\"\n",
    "    S, E, Y, A, R, Q = INP\n",
    "    N = S + E + Y + A + R + Q\n",
    "    # Transformaciones a algunos parametros\n",
    "    lambda_yr = 1/lambda_yr\n",
    "    lambda_ar = 1/lambda_ar\n",
    "    gamma = 1/gamma\n",
    "    delta = 0.322 * (1 - alpha)\n",
    "    B_a = B_y * phi\n",
    "    delta = 0.032 * (1 - alpha)\n",
    "    dSdt = Gamma + lambda_rs * R - (B_y * (Y/N) + B_a * (A/N)) * (1 - tau) * S - epsilon * S - tau * lambda_sq * S\n",
    "    dEdt = (B_y * (Y/N) + B_a * (A/N)) * (1 - tau) * S - gamma * alpha * E - gamma * (1 - alpha) * E - epsilon * E\n",
    "    dYdt = gamma * (1 - alpha) * E - epsilon * Y - delta * Y - lambda_yq * Y + lambda_ay * A\n",
    "    dAdt = gamma * alpha * E - lambda_ay * A - lambda_aq * A - epsilon * A\n",
    "    dRdt = lambda_qr * Q - lambda_rs * R - epsilon * R\n",
    "    dQdt = tau * lambda_sq * S + lambda_yq * Y + lambda_aq * A - lambda_qr * Q - epsilon * Q\n",
    "    return [dSdt, dEdt, dYdt, dAdt, dRdt, dQdt]"
   ]
  },
  {
   "cell_type": "code",
   "execution_count": 4,
   "metadata": {},
   "outputs": [],
   "source": [
    "def ode_solver(t, initial_conditions, params):\n",
    "    S, E, Y, A, R, Q = initial_conditions\n",
    "    phi, alpha, gamma, lambda_yr, lambda_ar, B_y = params\n",
    "    res = odeint(diff_eqs, [S, E, Y, A, R, Q], t, args=(phi, alpha, gamma, lambda_yr, lambda_ar, B_y))\n",
    "    return res\n",
    "\n"
   ]
  },
  {
   "cell_type": "code",
   "execution_count": 5,
   "metadata": {},
   "outputs": [],
   "source": [
    "def main(S_0, E_0, Y_0, A_0, R_0, Q_0, phi, alpha, gamma, lambda_yr, lambda_ar, B_y, dias):\n",
    "    initial_conditions = [S_0, E_0, Y_0, A_0, R_0, Q_0]\n",
    "    params = (phi, alpha, gamma, lambda_yr, lambda_ar, B_y)\n",
    "    periodo = np.arange(0, dias, 1)\n",
    "    sol = ode_solver(periodo, initial_conditions, params)\n",
    "    S, E, Y, A, R, Q = sol[:, 0], sol[:, 1], sol[:, 2], sol[:, 3], sol[:, 4], sol[:, 5]\n",
    "    \n",
    "    # Create traces\n",
    "    fig = go.Figure()\n",
    "    fig.add_trace(go.Scatter(x=periodo, y=S, mode='lines+markers', name='Suceptibles'))\n",
    "    fig.add_trace(go.Scatter(x=periodo, y=E, mode='lines+markers', name='Expuestos'))\n",
    "    fig.add_trace(go.Scatter(x=periodo, y=Y, mode='lines+markers', name='Sintomaticos'))\n",
    "    fig.add_trace(go.Scatter(x=periodo, y=A, mode='lines+markers', name='Asintomaticos'))\n",
    "    fig.add_trace(go.Scatter(x=periodo, y=R, mode='lines+markers', name='Recuperados'))\n",
    "    fig.add_trace(go.Scatter(x=periodo, y=Q, mode='lines+markers',name='Cuarentena'))\n",
    "    \n",
    "    if dias <= 30:\n",
    "        step = 1\n",
    "    elif dias <= 90:\n",
    "        step = 7\n",
    "    else:\n",
    "        step = 30\n",
    "    \n",
    "    # Edit the layout\n",
    "    fig.update_layout(title='Simulacion de un modelo de Covid-19 con cuarentena',\n",
    "                       xaxis_title='Dia',\n",
    "                       yaxis_title='Numero de personas',\n",
    "                       title_x=0.5,\n",
    "                      width=900, height=400\n",
    "                     )\n",
    "    fig.update_xaxes(tickangle=-90, tickformat = None, tickmode='array', tickvals=np.arange(0, dias + 1, step))\n",
    "    if not os.path.exists(\"images\"):\n",
    "        os.mkdir(\"images\")\n",
    "    fig.write_image(\"images/covid_simulation.png\")\n",
    "    fig.show()"
   ]
  },
  {
   "cell_type": "code",
   "execution_count": 6,
   "metadata": {},
   "outputs": [
    {
     "data": {
      "application/vnd.jupyter.widget-view+json": {
       "model_id": "12bd8a4565354f678115063a7d329a2c",
       "version_major": 2,
       "version_minor": 0
      },
      "text/plain": [
       "interactive(children=(IntSlider(value=100000, description='Suceptibles', layout=Layout(width='99%'), max=10000…"
      ]
     },
     "metadata": {},
     "output_type": "display_data"
    }
   ],
   "source": [
    "interact(main, S_0=IntSlider(min=0, max=100000, step=1, value=S_0, description='Suceptibles', style=style, layout=slider_layout),\n",
    "         E_0=IntSlider(min=0, max=100000, step=10, value=E_0, description='Expuestos', style=style, layout=slider_layout),\n",
    "         Y_0=IntSlider(min=0, max=100000, step=10, value=Y_0, description='Sintomaticos', style=style, layout=slider_layout),\n",
    "         A_0=IntSlider(min=0, max=100000, step=10, value=A_0, description='Asintomaticos', style=style, layout=slider_layout),\n",
    "         R_0=IntSlider(min=0, max=100000, step=1000, value=R_0, description='Recuperados', style=style, layout=slider_layout),\n",
    "         Q_0=IntSlider(min=0, max=100000, step=1000, value=Q_0, description='Cuarentena', style=style, layout=slider_layout),\n",
    "         phi=FloatSlider(min=0.49, max=0.63, step=0.01, value=phi, description='Reduccion de transmision', style=style, layout=slider_layout),\n",
    "         alpha=FloatSlider(min=0.82, max=0.9, step=0.01, value=alpha, description='p asintomatico', style=style, layout=slider_layout),\n",
    "         gamma=FloatSlider(min=4.5, max=5.8, step=0.01, value=gamma, description='Periodo incubacion', style=style, layout=slider_layout),\n",
    "         lambda_yr=IntSlider(min=8, max=37, step=1, value=lambda_yr, description='trancision sintomatica', style=style, layout=slider_layout),\n",
    "         lambda_ar=IntSlider(min=8, max=37, step=1, value=lambda_ar, description='tasa de recaida', style=style, layout=slider_layout),\n",
    "         B_y=FloatSlider(min=0, max=20, step=0.1, value=B_y, description='tasa de contacto efectiva', style=style, layout=slider_layout),\n",
    "         dias=IntSlider(min=1, max=60, step=7, value=dias, description='Dias', style=style, layout=slider_layout)\n",
    "        );"
   ]
  },
  {
   "cell_type": "code",
   "execution_count": null,
   "metadata": {},
   "outputs": [],
   "source": []
  },
  {
   "cell_type": "code",
   "execution_count": null,
   "metadata": {},
   "outputs": [],
   "source": []
  },
  {
   "cell_type": "code",
   "execution_count": null,
   "metadata": {},
   "outputs": [],
   "source": []
  },
  {
   "cell_type": "code",
   "execution_count": null,
   "metadata": {},
   "outputs": [],
   "source": []
  },
  {
   "cell_type": "code",
   "execution_count": null,
   "metadata": {},
   "outputs": [],
   "source": []
  }
 ],
 "metadata": {
  "kernelspec": {
   "display_name": "Python 3",
   "language": "python",
   "name": "python3"
  },
  "language_info": {
   "codemirror_mode": {
    "name": "ipython",
    "version": 3
   },
   "file_extension": ".py",
   "mimetype": "text/x-python",
   "name": "python",
   "nbconvert_exporter": "python",
   "pygments_lexer": "ipython3",
   "version": "3.7.4"
  }
 },
 "nbformat": 4,
 "nbformat_minor": 2
}
