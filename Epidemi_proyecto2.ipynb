{
 "cells": [
  {
   "cell_type": "code",
   "execution_count": 1,
   "metadata": {},
   "outputs": [],
   "source": [
    "#https://github.com/silpara/simulators/blob/master/compartmental_models/SEIR%20Simulator%20in%20Python.ipynb\n",
    "import os\n",
    "import sys\n",
    "import matplotlib.pyplot as plt\n",
    "import numpy as np\n",
    "import pandas as pd\n",
    "from scipy.integrate import odeint\n",
    "import plotly.graph_objects as go\n",
    "import plotly.io as pio\n",
    "pio.renderers.default = \"notebook\"\n",
    "%matplotlib inline\n",
    "plt.style.use('ggplot')\n",
    "\n",
    "# Jupyter Specifics\n",
    "from IPython.display import HTML\n",
    "from ipywidgets.widgets import interact, IntSlider, FloatSlider, Layout\n",
    "style = {'description_width': '100px'}\n",
    "slider_layout = Layout(width='99%')"
   ]
  },
  {
   "cell_type": "code",
   "execution_count": 2,
   "metadata": {},
   "outputs": [],
   "source": [
    "### DESCRIPCIÓN DEL MODELO ###\n",
    "\n",
    "S_0  = 100000       # Susceptibles al día 1\n",
    "E_0  = 0            # Expuestos al día 1\n",
    "Y_0  = 1            # Sintomáticos al día 1\n",
    "A_0  = 1            # Asintomáticos al día 1\n",
    "R_0  = 0            # Recuperados al día 1\n",
    "Q1_0 = 0            # Cuarentena al día 1 (asintomáticos)\n",
    "Q2_0 = 0            # Cuarentena al día 1 (infectados)\n",
    "Q3_0 = 0            # Cuarentena al día 1 (susceptibles)\n",
    "phi = 0.55          # Probabilidad de transmisión relativa\n",
    "alpha = 0.3         # Probabilidad de volverse asintomático tras la infección\n",
    "gamma = 1/5.1       # (Tasa de incubación), ó (1/gamma) como período de incubación\n",
    "\n",
    "###############################################################################\n",
    "\n",
    "epsilon = 0         # Tasa de mortalidad\n",
    "Gamma = 0           # Tasa de natalidad\n",
    "lambda_ay  = 0.1     # Proporción de la población que pasa de ser asintomática a infectada\n",
    "lambda_rs  = 0.1     # Proporción de la población que pasa de ser recuperados a ser susceptibles nuevamente\n",
    "lambda_sq3 = 0.1     # Proporción de la población que es susceptible y pasa a estar estar en cuarentena\n",
    "lambda_yq2 = 0.2     # Proporción de la población que es sintomática y pasa a estar en cuarentena\n",
    "lambda_aq1 = 0.1     # Proporción de la población que es asintomática y pasa a estar en cuarentena\n",
    "lambda_q1r = 0.1     # Proporción de la población que está en cuarentena y se recupera\n",
    "lambda_q2r = 0.1     # Proporción de la población que está en cuarentena y se recupera\n",
    "lambda_q3r = 0.1     # Proporción de la población que está en cuarentena y se recupera\n",
    "tau = 0.1           # Proporción de la población que respeta la cuarentena \n",
    "B_y = 5             # Tasa de contacto efectiva de subpoblaciones sintomáticas a sucseptibles\n",
    "dias = 30           # días lol\n",
    "# INPUT = [S, E, Y, A, R, Q]\n",
    "# parametros = [phi, alpha, gamma, lambda_yr, lambda_ar, B_y]"
   ]
  },
  {
   "cell_type": "markdown",
   "metadata": {},
   "source": [
    "El modelo:\n",
    "\n",
    "$\\frac{dS}{dt} = \\Gamma + \\lambda_{RS}R - (B_Y\\frac{Y}{N}+B_A\\frac{A}{N})(1-\\tau)S - \\epsilon S - \\tau \\lambda_{SQ_3}S$\n",
    "\n",
    "$\\frac{dE}{dt} = (B_Y\\frac{Y}{N}+B_A\\frac{A}{N})(1-\\tau) S - \\gamma E- \\epsilon E$\n",
    "\n",
    "$\\frac{dY}{dt} = \\gamma (1-\\alpha) E - \\epsilon Y - \\delta Y - \\lambda_{YQ_2}Y + \\lambda_{AY}A$\n",
    "\n",
    "$\\frac{dA}{dt} = \\gamma \\alpha E - \\lambda_{AY}A - \\lambda_{AQ_1}A - \\epsilon A$\n",
    "\n",
    "$\\frac{dR}{dt} = \\lambda_{Q_1R}Q_1 +\\lambda_{Q_2R}Q_2 + \\lambda{Q_3R}Q_3-\\epsilon R-\\lambda_{RS}R$\n",
    "\n",
    "$\\frac{dQ_1}{dt} = \\lambda_{AQ_1}A-\\lambda_{Q_1R}Q_1-\\epsilon Q_1$\n",
    "\n",
    "$\\frac{dQ_2}{dt} = \\lambda_{YQ_2}Y-\\lambda_{Q_2R}Q_2-\\epsilon Q_2$\n",
    "\n",
    "$\\frac{dQ_3}{dt} = \\tau \\lambda_{SQ_3}s-\\lambda_{Q_3R}Q_3-\\epsilon Q_3$"
   ]
  },
  {
   "cell_type": "code",
   "execution_count": 3,
   "metadata": {},
   "outputs": [],
   "source": [
    "### DEFINICIÓN DEL MODELO ###\n",
    "\n",
    "def diff_eqs(INP, t, phi, alpha, gamma, epsilon, Gamma, lambda_ay, lambda_rs, lambda_sq3, lambda_yq2, lambda_aq1, lambda_q1r, lambda_q2r, lambda_q3r, tau, B_y):\n",
    "    \"\"\"\n",
    "    Sistema de ecuaciones diferenciales.\n",
    "    \"\"\"\n",
    "    S, E, Y, A, R, Q1, Q2, Q3 = INP\n",
    "    N = S + E + Y + A + R + Q1 + Q2 + Q3\n",
    "    \n",
    "    B_a = B_y * phi                # Tasa de contacto efectivo de subpoblación asintomática a susceptible\n",
    "    delta = 0.032 * (1 - alpha)    # Tasa de mortalidad inducida por la enfermedad\n",
    "    \n",
    "    # Planteamiento matemático del modelo\n",
    "    \n",
    "    #dSdt = Gamma + lambda_rs * R - (B_y * (Y/N) + B_a * (A/N)) * (1 - tau) * S - epsilon * S - tau * lambda_sq * S\n",
    "    #dEdt = (B_y * (Y/N) + B_a * (A/N)) * (1 - tau) * S - gamma * alpha * E - gamma * (1 - alpha) * E - epsilon * E\n",
    "    #dYdt = gamma * (1 - alpha) * E - epsilon * Y - delta * Y - lambda_yq * Y + lambda_ay * A\n",
    "    #dAdt = gamma * alpha * E - lambda_ay * A - lambda_aq * A - epsilon * A\n",
    "    #dRdt = lambda_qr * Q - lambda_rs * R - epsilon * R\n",
    "    #dQdt = tau * lambda_sq * S + lambda_yq * Y + lambda_aq * A - lambda_qr * Q - epsilon * Q\n",
    "    #return [dSdt, dEdt, dYdt, dAdt, dRdt, dQdt]\n",
    "    \n",
    "    dSdt = Gamma + lambda_rs * R - (B_y * (Y/N) + B_a * (A/N)) * (1 - tau) * S - epsilon * S - tau * lambda_sq3 * S\n",
    "    dEdt = (B_y * (Y/N) + B_a * (A/N)) * (1 - tau) * S - gamma * E - epsilon * E\n",
    "    dYdt = gamma * (1 - alpha) * E - epsilon * Y - delta * Y - lambda_yq2 * Y + lambda_ay * A\n",
    "    dAdt = gamma * alpha * E - lambda_ay * A - lambda_aq1 * A - epsilon * A\n",
    "    dRdt = lambda_q1r * Q1 + lambda_q2r * Q2 + lambda_q3r * Q3 - lambda_rs * R - epsilon * R\n",
    "    dQ1dt = lambda_aq1 * A - lambda_q1r * Q1 - epsilon * Q1\n",
    "    dQ2dt = lambda_yq2 * Y - lambda_q2r * Q2 - epsilon * Q2\n",
    "    dQ3dt = tau * lambda_sq3 - lambda_q3r * Q3 - epsilon * Q3\n",
    "    return [dSdt, dEdt, dYdt, dAdt, dRdt, dQ1dt, dQ2dt, dQ3dt]\n",
    "\n",
    "    #dSdt = Gamma - (B_y * (Y/N) + B_a * (A/N)) * (1 - tau) * S - epsilon * S - tau * lambda_sq * S\n",
    "    #dEdt = (B_y * (Y/N) + B_a * (A/N)) * (1 - tau) * S - gamma * alpha * E - gamma * (1 - alpha) * E - epsilon * E\n",
    "    #dYdt = gamma * (1 - alpha) * E - epsilon * Y - delta * Y - lambda_yq * Y + lambda_ay * A\n",
    "    #dAdt = gamma * alpha * E - lambda_ay * A - lambda_aq * A - epsilon * A\n",
    "    #dRdt = lambda_qr * Q - epsilon * R\n",
    "    #dQdt = tau * lambda_sq * S + lambda_yq * Y + lambda_aq * A - lambda_qr * Q - epsilon * Q\n",
    "    #return [dSdt, dEdt, dYdt, dAdt, dRdt, dQdt]"
   ]
  },
  {
   "cell_type": "code",
   "execution_count": 4,
   "metadata": {},
   "outputs": [],
   "source": [
    "### SOLUCIÓN DEL MODELO ###\n",
    "\n",
    "def ode_solver(t, initial_conditions, params):\n",
    "    S, E, Y, A, R, Q1,Q2, Q3 = initial_conditions\n",
    "    phi, alpha, gamma, epsilon, Gamma, lambda_ay, lambda_rs, lambda_sq3, lambda_yq2, lambda_aq1, lambda_q1r, lambda_q2r, lambda_q3r, tau, B_y = params\n",
    "    res = odeint(diff_eqs, [S, E, Y, A, R, Q1, Q2, Q3], t, args=(phi, alpha, gamma, epsilon, Gamma, lambda_ay, lambda_rs, lambda_sq3, lambda_yq2, lambda_aq1, lambda_q1r, lambda_q2r, lambda_q3r, tau, B_y))\n",
    "    return res"
   ]
  },
  {
   "cell_type": "code",
   "execution_count": 5,
   "metadata": {},
   "outputs": [],
   "source": [
    "def main(S_0, E_0, Y_0, A_0, R_0, Q1_0, Q2_0, Q3_0, phi, alpha, gamma, epsilon, Gamma, lambda_ay, lambda_rs, lambda_sq3, lambda_yq2, lambda_aq1, lambda_q1r, lambda_q2r, lambda_q3r, tau, B_y, dias):\n",
    "    initial_conditions = [S_0, E_0, Y_0, A_0, R_0, Q1_0, Q2_0, Q3_0]\n",
    "    params = (phi, alpha, gamma, epsilon, Gamma, lambda_ay, lambda_rs, lambda_sq3, lambda_yq2, lambda_aq1, lambda_q1r, lambda_q2r, lambda_q3r, tau, B_y)\n",
    "    periodo = np.arange(0, dias, 1)\n",
    "    sol = ode_solver(periodo, initial_conditions, params)\n",
    "    S, E, Y, A, R, Q1, Q2, Q3 = sol[:, 0], sol[:, 1], sol[:, 2], sol[:, 3], sol[:, 4], sol[:, 5], sol[:, 6], sol[:, 7]\n",
    "    \n",
    "    # Create traces\n",
    "    fig = go.Figure()\n",
    "    fig.add_trace(go.Scatter(x=periodo, y=S, mode='lines+markers', name='Suceptibles'))\n",
    "    fig.add_trace(go.Scatter(x=periodo, y=E, mode='lines+markers', name='Expuestos'))\n",
    "    fig.add_trace(go.Scatter(x=periodo, y=Y, mode='lines+markers', name='Sintomaticos'))\n",
    "    fig.add_trace(go.Scatter(x=periodo, y=A, mode='lines+markers', name='Asintomaticos'))\n",
    "    fig.add_trace(go.Scatter(x=periodo, y=R, mode='lines+markers', name='Recuperados'))\n",
    "    fig.add_trace(go.Scatter(x=periodo, y=Q1, mode='lines+markers', name='Cuarentena (asintomáticos)'))\n",
    "    fig.add_trace(go.Scatter(x=periodo, y=Q2, mode='lines+markers', name='Cuarentena (infectados)'))\n",
    "    fig.add_trace(go.Scatter(x=periodo, y=Q3, mode='lines+markers', name='Cuarentena (susceptibles)'))\n",
    "    \n",
    "    if dias <= 30:\n",
    "        step = 1\n",
    "    elif dias <= 90:\n",
    "        step = 7\n",
    "    else:\n",
    "        step = 30\n",
    "    \n",
    "    # Edit the layout\n",
    "    fig.update_layout(title='Simulación de un modelo de Covid-19 con cuarentena',\n",
    "                       xaxis_title='Día',\n",
    "                       yaxis_title='Número de personas',\n",
    "                       title_x=0.5,\n",
    "                      width=900, height=400\n",
    "                     )\n",
    "    fig.update_xaxes(tickangle=-90, tickformat = None, tickmode='array', tickvals=np.arange(0, dias + 1, step))\n",
    "    if not os.path.exists(\"images\"):\n",
    "        os.mkdir(\"images\")\n",
    "    fig.write_image(\"images/covid_simulation.png\")\n",
    "    fig.show()"
   ]
  },
  {
   "cell_type": "code",
   "execution_count": 6,
   "metadata": {
    "scrolled": false
   },
   "outputs": [
    {
     "data": {
      "application/vnd.jupyter.widget-view+json": {
       "model_id": "90a3914cd98e49f3be34b8393b60555c",
       "version_major": 2,
       "version_minor": 0
      },
      "text/plain": [
       "interactive(children=(IntSlider(value=100000, description='Suceptibles', layout=Layout(width='99%'), max=10000…"
      ]
     },
     "metadata": {},
     "output_type": "display_data"
    }
   ],
   "source": [
    "interact(main,\n",
    "         S_0 = IntSlider(min=0, max=100000, step=100, value=S_0, description='Suceptibles', style=style, layout=slider_layout),\n",
    "         E_0 = IntSlider(min=0, max=100000, step=100, value=E_0, description='Expuestos', style=style, layout=slider_layout),\n",
    "         Y_0 = IntSlider(min=0, max=100000, step=100, value=Y_0, description='Sintomáticos', style=style, layout=slider_layout),\n",
    "         A_0 = IntSlider(min=0, max=100000, step=100, value=A_0, description='Asintomaticos', style=style, layout=slider_layout),\n",
    "         R_0 = IntSlider(min=0, max=100000, step=100, value=R_0, description='Recuperados', style=style, layout=slider_layout),\n",
    "         Q1_0 = IntSlider(min=0, max=100000, step=100, value=Q1_0, description='Cuarentena (asintomáticos)', style=style, layout=slider_layout),\n",
    "         Q2_0 = IntSlider(min=0, max=100000, step=100, value=Q2_0, description='Cuarentena (infectados)', style=style, layout=slider_layout),\n",
    "         Q3_0 = IntSlider(min=0, max=100000, step=100, value=Q3_0, description='Cuarentena (susceptibles)', style=style, layout=slider_layout),\n",
    "         phi = FloatSlider(min=0.49, max=0.63, step=0.01, value=phi, description='phi', style=style, layout=slider_layout),\n",
    "         alpha = FloatSlider(min=0, max=1, step=0.01, value=alpha, description='alpha', style=style, layout=slider_layout),\n",
    "         gamma = FloatSlider(min=0.17, max=0.22, step=0.01, value=gamma, description='gamma', style=style, layout=slider_layout),\n",
    "         epsilon = FloatSlider(min=0, max=1, step=0.01, value=epsilon, description='epsilon', style=style, layout=slider_layout),\n",
    "         Gamma = IntSlider(min=0, max=6000, step=1, value=Gamma, description='Gamma', style=style, layout=slider_layout),\n",
    "         lambda_ay = FloatSlider(min=0, max=1, step=0.01, value=lambda_ay, description='lambda_ay', style=style, layout=slider_layout),\n",
    "         lambda_rs = FloatSlider(min=0, max=1, step=0.01, value=lambda_rs, description='lambda_rs', style=style, layout=slider_layout),\n",
    "         lambda_sq3 = FloatSlider(min=0, max=1, step=0.01, value=lambda_sq3, description='lambda_sq3', style=style, layout=slider_layout),\n",
    "         lambda_yq2 = FloatSlider(min=0, max=1, step=0.01, value=lambda_yq2, description='lambda_yq2', style=style, layout=slider_layout),\n",
    "         lambda_aq1 = FloatSlider(min=0, max=1, step=0.01, value=lambda_aq1, description='lambda_aq1', style=style, layout=slider_layout),\n",
    "         lambda_q1r = FloatSlider(min=0, max=1, step=0.01, value=lambda_q1r, description='lambda_q1r', style=style, layout=slider_layout),\n",
    "         lambda_q2r = FloatSlider(min=0, max=1, step=0.01, value=lambda_q2r, description='lambda_q2r', style=style, layout=slider_layout),\n",
    "         lambda_q3r = FloatSlider(min=0, max=1, step=0.01, value=lambda_q3r, description='lambda_q3r', style=style, layout=slider_layout),\n",
    "         tau = FloatSlider(min=0, max=1, step=0.01, value=tau, description='tau', style=style, layout=slider_layout),\n",
    "         B_y = FloatSlider(min=0, max=20, step=0.1, value=B_y, description='B_y', style=style, layout=slider_layout),\n",
    "         dias = IntSlider(min=1, max=300, step=7, value=dias, description='Días', style=style, layout=slider_layout)\n",
    "        );"
   ]
  },
  {
   "cell_type": "code",
   "execution_count": null,
   "metadata": {},
   "outputs": [],
   "source": []
  }
 ],
 "metadata": {
  "kernelspec": {
   "display_name": "Python 3",
   "language": "python",
   "name": "python3"
  },
  "language_info": {
   "codemirror_mode": {
    "name": "ipython",
    "version": 3
   },
   "file_extension": ".py",
   "mimetype": "text/x-python",
   "name": "python",
   "nbconvert_exporter": "python",
   "pygments_lexer": "ipython3",
   "version": "3.7.4"
  }
 },
 "nbformat": 4,
 "nbformat_minor": 2
}
